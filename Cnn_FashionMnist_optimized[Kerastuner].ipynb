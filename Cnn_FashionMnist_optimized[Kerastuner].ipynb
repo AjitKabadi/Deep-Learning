{
  "nbformat": 4,
  "nbformat_minor": 0,
  "metadata": {
    "colab": {
      "name": "Cnn_FashionMnist_optimized[Kerastuner].ipynb",
      "provenance": [],
      "mount_file_id": "1ZQUtBVbBMJHUtJXCGEDmUouv74qarTF5",
      "authorship_tag": "ABX9TyPKLmy9jtsDC0fEDugWAOAF",
      "include_colab_link": true
    },
    "kernelspec": {
      "name": "python3",
      "display_name": "Python 3"
    },
    "accelerator": "GPU"
  },
  "cells": [
    {
      "cell_type": "markdown",
      "metadata": {
        "id": "view-in-github",
        "colab_type": "text"
      },
      "source": [
        "<a href=\"https://colab.research.google.com/github/AjitKabadi/Deep-Learning/blob/main/Cnn_FashionMnist_optimized%5BKerastuner%5D.ipynb\" target=\"_parent\"><img src=\"https://colab.research.google.com/assets/colab-badge.svg\" alt=\"Open In Colab\"/></a>"
      ]
    },
    {
      "cell_type": "code",
      "metadata": {
        "colab": {
          "base_uri": "https://localhost:8080/"
        },
        "id": "JV43aCaKwfrn",
        "outputId": "50920cbe-396d-48bb-8627-74e065d564db"
      },
      "source": [
        "!pip install keras-tuner"
      ],
      "execution_count": 2,
      "outputs": [
        {
          "output_type": "stream",
          "text": [
            "Collecting keras-tuner\n",
            "\u001b[?25l  Downloading https://files.pythonhosted.org/packages/20/ec/1ef246787174b1e2bb591c95f29d3c1310070cad877824f907faba3dade9/keras-tuner-1.0.2.tar.gz (62kB)\n",
            "\r\u001b[K     |█████▏                          | 10kB 16.5MB/s eta 0:00:01\r\u001b[K     |██████████▍                     | 20kB 13.3MB/s eta 0:00:01\r\u001b[K     |███████████████▋                | 30kB 9.6MB/s eta 0:00:01\r\u001b[K     |████████████████████▉           | 40kB 8.9MB/s eta 0:00:01\r\u001b[K     |██████████████████████████      | 51kB 6.8MB/s eta 0:00:01\r\u001b[K     |███████████████████████████████▎| 61kB 7.3MB/s eta 0:00:01\r\u001b[K     |████████████████████████████████| 71kB 5.3MB/s \n",
            "\u001b[?25hRequirement already satisfied: packaging in /usr/local/lib/python3.6/dist-packages (from keras-tuner) (20.9)\n",
            "Requirement already satisfied: future in /usr/local/lib/python3.6/dist-packages (from keras-tuner) (0.16.0)\n",
            "Requirement already satisfied: numpy in /usr/local/lib/python3.6/dist-packages (from keras-tuner) (1.19.5)\n",
            "Requirement already satisfied: tabulate in /usr/local/lib/python3.6/dist-packages (from keras-tuner) (0.8.7)\n",
            "Collecting terminaltables\n",
            "  Downloading https://files.pythonhosted.org/packages/9b/c4/4a21174f32f8a7e1104798c445dacdc1d4df86f2f26722767034e4de4bff/terminaltables-3.1.0.tar.gz\n",
            "Collecting colorama\n",
            "  Downloading https://files.pythonhosted.org/packages/44/98/5b86278fbbf250d239ae0ecb724f8572af1c91f4a11edf4d36a206189440/colorama-0.4.4-py2.py3-none-any.whl\n",
            "Requirement already satisfied: tqdm in /usr/local/lib/python3.6/dist-packages (from keras-tuner) (4.41.1)\n",
            "Requirement already satisfied: requests in /usr/local/lib/python3.6/dist-packages (from keras-tuner) (2.23.0)\n",
            "Requirement already satisfied: scipy in /usr/local/lib/python3.6/dist-packages (from keras-tuner) (1.4.1)\n",
            "Requirement already satisfied: scikit-learn in /usr/local/lib/python3.6/dist-packages (from keras-tuner) (0.22.2.post1)\n",
            "Requirement already satisfied: pyparsing>=2.0.2 in /usr/local/lib/python3.6/dist-packages (from packaging->keras-tuner) (2.4.7)\n",
            "Requirement already satisfied: certifi>=2017.4.17 in /usr/local/lib/python3.6/dist-packages (from requests->keras-tuner) (2020.12.5)\n",
            "Requirement already satisfied: urllib3!=1.25.0,!=1.25.1,<1.26,>=1.21.1 in /usr/local/lib/python3.6/dist-packages (from requests->keras-tuner) (1.24.3)\n",
            "Requirement already satisfied: chardet<4,>=3.0.2 in /usr/local/lib/python3.6/dist-packages (from requests->keras-tuner) (3.0.4)\n",
            "Requirement already satisfied: idna<3,>=2.5 in /usr/local/lib/python3.6/dist-packages (from requests->keras-tuner) (2.10)\n",
            "Requirement already satisfied: joblib>=0.11 in /usr/local/lib/python3.6/dist-packages (from scikit-learn->keras-tuner) (1.0.0)\n",
            "Building wheels for collected packages: keras-tuner, terminaltables\n",
            "  Building wheel for keras-tuner (setup.py) ... \u001b[?25l\u001b[?25hdone\n",
            "  Created wheel for keras-tuner: filename=keras_tuner-1.0.2-cp36-none-any.whl size=78939 sha256=66845dc7cd8944271bab0154afa21079a710616092baaf6914a4b7b7bd23f801\n",
            "  Stored in directory: /root/.cache/pip/wheels/bb/a1/8a/7c3de0efb3707a1701b36ebbfdbc4e67aedf6d4943a1f463d6\n",
            "  Building wheel for terminaltables (setup.py) ... \u001b[?25l\u001b[?25hdone\n",
            "  Created wheel for terminaltables: filename=terminaltables-3.1.0-cp36-none-any.whl size=15358 sha256=1a258f8f67bb1bea5d61814669df8feb8964a4b60b27f0c1190b63c93db8c870\n",
            "  Stored in directory: /root/.cache/pip/wheels/30/6b/50/6c75775b681fb36cdfac7f19799888ef9d8813aff9e379663e\n",
            "Successfully built keras-tuner terminaltables\n",
            "Installing collected packages: terminaltables, colorama, keras-tuner\n",
            "Successfully installed colorama-0.4.4 keras-tuner-1.0.2 terminaltables-3.1.0\n"
          ],
          "name": "stdout"
        }
      ]
    },
    {
      "cell_type": "code",
      "metadata": {
        "id": "9JeNPhFdBer9"
      },
      "source": [
        "import tensorflow as tf\r\n",
        "from tensorflow import keras \r\n",
        "import numpy as np"
      ],
      "execution_count": 3,
      "outputs": []
    },
    {
      "cell_type": "code",
      "metadata": {
        "colab": {
          "base_uri": "https://localhost:8080/"
        },
        "id": "OReTfG1YDwKM",
        "outputId": "1e484447-8e07-47ee-f2ee-2294557a621d"
      },
      "source": [
        "print(tf.__version__)"
      ],
      "execution_count": 4,
      "outputs": [
        {
          "output_type": "stream",
          "text": [
            "2.4.1\n"
          ],
          "name": "stdout"
        }
      ]
    },
    {
      "cell_type": "code",
      "metadata": {
        "id": "ipmfswDOD3Vk"
      },
      "source": [
        "fashion_mnist= keras.datasets.fashion_mnist"
      ],
      "execution_count": 5,
      "outputs": []
    },
    {
      "cell_type": "code",
      "metadata": {
        "colab": {
          "base_uri": "https://localhost:8080/"
        },
        "id": "n80G96rHEeOD",
        "outputId": "531f9482-18a1-437d-b10a-8e732b0fce84"
      },
      "source": [
        "(train_images, train_labels), (test_images,test_labels)= fashion_mnist.load_data()"
      ],
      "execution_count": 6,
      "outputs": [
        {
          "output_type": "stream",
          "text": [
            "Downloading data from https://storage.googleapis.com/tensorflow/tf-keras-datasets/train-labels-idx1-ubyte.gz\n",
            "32768/29515 [=================================] - 0s 0us/step\n",
            "Downloading data from https://storage.googleapis.com/tensorflow/tf-keras-datasets/train-images-idx3-ubyte.gz\n",
            "26427392/26421880 [==============================] - 0s 0us/step\n",
            "Downloading data from https://storage.googleapis.com/tensorflow/tf-keras-datasets/t10k-labels-idx1-ubyte.gz\n",
            "8192/5148 [===============================================] - 0s 0us/step\n",
            "Downloading data from https://storage.googleapis.com/tensorflow/tf-keras-datasets/t10k-images-idx3-ubyte.gz\n",
            "4423680/4422102 [==============================] - 0s 0us/step\n"
          ],
          "name": "stdout"
        }
      ]
    },
    {
      "cell_type": "code",
      "metadata": {
        "id": "2s6XesCXFTuE"
      },
      "source": [
        "train_images=train_images/255.0\r\n",
        "test_images=test_images/255.0"
      ],
      "execution_count": 7,
      "outputs": []
    },
    {
      "cell_type": "code",
      "metadata": {
        "colab": {
          "base_uri": "https://localhost:8080/"
        },
        "id": "fshxjPfgFxDs",
        "outputId": "bd0b4372-53c5-479d-f026-07b01a60db98"
      },
      "source": [
        " train_images[0].shape"
      ],
      "execution_count": 8,
      "outputs": [
        {
          "output_type": "execute_result",
          "data": {
            "text/plain": [
              "(28, 28)"
            ]
          },
          "metadata": {
            "tags": []
          },
          "execution_count": 8
        }
      ]
    },
    {
      "cell_type": "code",
      "metadata": {
        "id": "Pkphw5tOGUlM"
      },
      "source": [
        "train_images=train_images.reshape(len(train_images),28,28,1)\r\n",
        "test_images= test_images.reshape(len(test_images),28,28,1)"
      ],
      "execution_count": 9,
      "outputs": []
    },
    {
      "cell_type": "code",
      "metadata": {
        "id": "LZMPNUmRGw_U"
      },
      "source": [
        "def build_model(hp):  \r\n",
        "  model = keras.Sequential([\r\n",
        "    keras.layers.Conv2D(\r\n",
        "        filters=hp.Int('conv_1_filter', min_value=32, max_value=128, step=16),\r\n",
        "        kernel_size=hp.Choice('conv_1_kernel', values = [3,5]),\r\n",
        "        activation='relu',\r\n",
        "        input_shape=(28,28,1)\r\n",
        "    ),\r\n",
        "    keras.layers.Conv2D(\r\n",
        "        filters=hp.Int('conv_2_filter', min_value=32, max_value=64, step=16),\r\n",
        "        kernel_size=hp.Choice('conv_2_kernel', values = [3,5]),\r\n",
        "        activation='relu'\r\n",
        "    ),\r\n",
        "    keras.layers.Flatten(),\r\n",
        "    keras.layers.Dense(\r\n",
        "        units=hp.Int('dense_1_units', min_value=32, max_value=128, step=16),\r\n",
        "        activation='relu'\r\n",
        "    ),\r\n",
        "    keras.layers.Dense(10, activation='softmax')\r\n",
        "  ])\r\n",
        "  \r\n",
        "  model.compile(optimizer=keras.optimizers.Adam(hp.Choice('learning_rate', values=[1e-2, 1e-3])),\r\n",
        "              loss='sparse_categorical_crossentropy',\r\n",
        "              metrics=['accuracy'])\r\n",
        "  \r\n",
        "  return model"
      ],
      "execution_count": 10,
      "outputs": []
    },
    {
      "cell_type": "code",
      "metadata": {
        "id": "4clAW7baI8rs"
      },
      "source": [
        "from kerastuner import RandomSearch\r\n",
        "from kerastuner.engine.hyperparameters import HyperParameters"
      ],
      "execution_count": 11,
      "outputs": []
    },
    {
      "cell_type": "code",
      "metadata": {
        "id": "Zc6NIsMwKMIH"
      },
      "source": [
        "tuner_serach = RandomSearch(build_model,objective='val_accuracy',max_trials=5, directory='output',project_name='mnist_fashoin')"
      ],
      "execution_count": 12,
      "outputs": []
    },
    {
      "cell_type": "code",
      "metadata": {
        "colab": {
          "base_uri": "https://localhost:8080/"
        },
        "id": "wqwLEzw9KrlM",
        "outputId": "538524de-e732-466a-8e69-4c2714d64ac2"
      },
      "source": [
        "tuner_serach.search(train_images,train_labels, epochs=3, validation_split= 0.1)"
      ],
      "execution_count": 13,
      "outputs": [
        {
          "output_type": "stream",
          "text": [
            "Trial 5 Complete [00h 00m 23s]\n",
            "val_accuracy: 0.871833324432373\n",
            "\n",
            "Best val_accuracy So Far: 0.9143333435058594\n",
            "Total elapsed time: 00h 01m 55s\n",
            "INFO:tensorflow:Oracle triggered exit\n"
          ],
          "name": "stdout"
        }
      ]
    },
    {
      "cell_type": "code",
      "metadata": {
        "id": "2e3MaGDQL1h3"
      },
      "source": [
        "model=tuner_serach.get_best_models(num_models=1)[0]"
      ],
      "execution_count": 15,
      "outputs": []
    },
    {
      "cell_type": "code",
      "metadata": {
        "colab": {
          "base_uri": "https://localhost:8080/"
        },
        "id": "jxF3gcNPOLfd",
        "outputId": "81e8411c-cdb7-4389-fd1e-cc054eb95d4d"
      },
      "source": [
        "model.summary()"
      ],
      "execution_count": 16,
      "outputs": [
        {
          "output_type": "stream",
          "text": [
            "Model: \"sequential\"\n",
            "_________________________________________________________________\n",
            "Layer (type)                 Output Shape              Param #   \n",
            "=================================================================\n",
            "conv2d (Conv2D)              (None, 26, 26, 128)       1280      \n",
            "_________________________________________________________________\n",
            "conv2d_1 (Conv2D)            (None, 24, 24, 64)        73792     \n",
            "_________________________________________________________________\n",
            "flatten (Flatten)            (None, 36864)             0         \n",
            "_________________________________________________________________\n",
            "dense (Dense)                (None, 80)                2949200   \n",
            "_________________________________________________________________\n",
            "dense_1 (Dense)              (None, 10)                810       \n",
            "=================================================================\n",
            "Total params: 3,025,082\n",
            "Trainable params: 3,025,082\n",
            "Non-trainable params: 0\n",
            "_________________________________________________________________\n"
          ],
          "name": "stdout"
        }
      ]
    },
    {
      "cell_type": "code",
      "metadata": {
        "colab": {
          "base_uri": "https://localhost:8080/"
        },
        "id": "PCSqIffrOT21",
        "outputId": "8fadea4a-273a-4d64-ac18-b885b99aba66"
      },
      "source": [
        "model.fit(train_images,train_labels, epochs=10, validation_split=0.1, initial_epoch=3)"
      ],
      "execution_count": 17,
      "outputs": [
        {
          "output_type": "stream",
          "text": [
            "Epoch 4/10\n",
            "1688/1688 [==============================] - 9s 5ms/step - loss: 0.1104 - accuracy: 0.9579 - val_loss: 0.2766 - val_accuracy: 0.9117\n",
            "Epoch 5/10\n",
            "1688/1688 [==============================] - 9s 5ms/step - loss: 0.0758 - accuracy: 0.9710 - val_loss: 0.3123 - val_accuracy: 0.9143\n",
            "Epoch 6/10\n",
            "1688/1688 [==============================] - 8s 5ms/step - loss: 0.0458 - accuracy: 0.9850 - val_loss: 0.3572 - val_accuracy: 0.9153\n",
            "Epoch 7/10\n",
            "1688/1688 [==============================] - 9s 5ms/step - loss: 0.0333 - accuracy: 0.9885 - val_loss: 0.4153 - val_accuracy: 0.9165\n",
            "Epoch 8/10\n",
            "1688/1688 [==============================] - 8s 5ms/step - loss: 0.0254 - accuracy: 0.9907 - val_loss: 0.4789 - val_accuracy: 0.9130\n",
            "Epoch 9/10\n",
            "1688/1688 [==============================] - 9s 5ms/step - loss: 0.0183 - accuracy: 0.9938 - val_loss: 0.5400 - val_accuracy: 0.9120\n",
            "Epoch 10/10\n",
            "1688/1688 [==============================] - 9s 5ms/step - loss: 0.0172 - accuracy: 0.9941 - val_loss: 0.5561 - val_accuracy: 0.9127\n"
          ],
          "name": "stdout"
        },
        {
          "output_type": "execute_result",
          "data": {
            "text/plain": [
              "<tensorflow.python.keras.callbacks.History at 0x7f1c865b8d30>"
            ]
          },
          "metadata": {
            "tags": []
          },
          "execution_count": 17
        }
      ]
    },
    {
      "cell_type": "code",
      "metadata": {
        "id": "oMxITH86PIho"
      },
      "source": [
        ""
      ],
      "execution_count": null,
      "outputs": []
    }
  ]
}