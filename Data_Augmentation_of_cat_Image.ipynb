{
  "nbformat": 4,
  "nbformat_minor": 0,
  "metadata": {
    "colab": {
      "name": "Data Augmentation of cat Image.ipynb",
      "provenance": [],
      "mount_file_id": "1o_ylKT7Ppz8tA5FkGs5LeWVoNTJ1btlz",
      "authorship_tag": "ABX9TyMozoIYlkZsJe8xsI9hYVbC",
      "include_colab_link": true
    },
    "kernelspec": {
      "name": "python3",
      "display_name": "Python 3"
    }
  },
  "cells": [
    {
      "cell_type": "markdown",
      "metadata": {
        "id": "view-in-github",
        "colab_type": "text"
      },
      "source": [
        "<a href=\"https://colab.research.google.com/github/AjitKabadi/Deep-Learning/blob/main/Data_Augmentation_of_cat_Image.ipynb\" target=\"_parent\"><img src=\"https://colab.research.google.com/assets/colab-badge.svg\" alt=\"Open In Colab\"/></a>"
      ]
    },
    {
      "cell_type": "code",
      "metadata": {
        "id": "HwN3D36QtBLh"
      },
      "source": [
        "from keras.preprocessing.image import ImageDataGenerator, array_to_img, img_to_array, load_img\r\n",
        "\r\n",
        "\r\n",
        "datagen = ImageDataGenerator(\r\n",
        "        rotation_range=40,\r\n",
        "        width_shift_range=0.2,\r\n",
        "        height_shift_range=0.2,\r\n",
        "        shear_range=0.2,\r\n",
        "        zoom_range=0.2,\r\n",
        "        horizontal_flip=True,\r\n",
        "        fill_mode='nearest')\r\n",
        "\r\n",
        "img = load_img('/content/drive/MyDrive/CAT/cat.jpg')  # this is a PIL image\r\n",
        "x = img_to_array(img)  # this is a Numpy array with shape (3, 150, 150)\r\n",
        "x = x.reshape((1,) + x.shape)  # this is a Numpy array with shape (1, 3, 150, 150)\r\n",
        "\r\n",
        "# the .flow() command below generates batches of randomly transformed images\r\n",
        "\r\n",
        "i = 0\r\n",
        "for batch in datagen.flow(x, batch_size=1,\r\n",
        "                          save_to_dir='/content/drive/MyDrive/CAT', save_prefix='cat', save_format='jpeg'):\r\n",
        "    i += 1\r\n",
        "    if i > 20:\r\n",
        "        break  # otherwise the generator would loop indefinitely\r\n"
      ],
      "execution_count": 3,
      "outputs": []
    },
    {
      "cell_type": "code",
      "metadata": {
        "id": "94rlLmmWugNj"
      },
      "source": [
        ""
      ],
      "execution_count": null,
      "outputs": []
    }
  ]
}