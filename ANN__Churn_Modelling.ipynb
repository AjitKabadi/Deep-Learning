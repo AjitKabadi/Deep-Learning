{
  "nbformat": 4,
  "nbformat_minor": 0,
  "metadata": {
    "colab": {
      "name": "ANN _Churn_Modelling.ipynb",
      "provenance": []
    },
    "kernelspec": {
      "name": "python3",
      "display_name": "Python 3"
    },
    "accelerator": "GPU"
  },
  "cells": [
    {
      "cell_type": "code",
      "metadata": {
        "colab": {
          "base_uri": "https://localhost:8080/",
          "height": 35
        },
        "id": "eQEyWUxG3xY9",
        "outputId": "e237035a-12b2-4ea3-eb16-056e041de711"
      },
      "source": [
        "import tensorflow as tf\r\n",
        "tf.test.gpu_device_name()"
      ],
      "execution_count": null,
      "outputs": [
        {
          "output_type": "execute_result",
          "data": {
            "application/vnd.google.colaboratory.intrinsic+json": {
              "type": "string"
            },
            "text/plain": [
              "'/device:GPU:0'"
            ]
          },
          "metadata": {
            "tags": []
          },
          "execution_count": 2
        }
      ]
    },
    {
      "cell_type": "code",
      "metadata": {
        "colab": {
          "base_uri": "https://localhost:8080/"
        },
        "id": "eycpPjp15KwB",
        "outputId": "7d08b1cd-64fe-46fa-97e1-26120d94a7b3"
      },
      "source": [
        "from tensorflow.python.client import device_lib\r\n",
        "device_lib.list_local_devices()"
      ],
      "execution_count": null,
      "outputs": [
        {
          "output_type": "execute_result",
          "data": {
            "text/plain": [
              "[name: \"/device:CPU:0\"\n",
              " device_type: \"CPU\"\n",
              " memory_limit: 268435456\n",
              " locality {\n",
              " }\n",
              " incarnation: 17260412090857569081, name: \"/device:GPU:0\"\n",
              " device_type: \"GPU\"\n",
              " memory_limit: 14674281152\n",
              " locality {\n",
              "   bus_id: 1\n",
              "   links {\n",
              "   }\n",
              " }\n",
              " incarnation: 11368716502241508974\n",
              " physical_device_desc: \"device: 0, name: Tesla T4, pci bus id: 0000:00:04.0, compute capability: 7.5\"]"
            ]
          },
          "metadata": {
            "tags": []
          },
          "execution_count": 3
        }
      ]
    },
    {
      "cell_type": "code",
      "metadata": {
        "id": "UcuAI5qi5lQ3"
      },
      "source": [
        "import pandas as pd\r\n",
        "import numpy as np\r\n",
        "import matplotlib.pyplot as plt\r\n"
      ],
      "execution_count": 1,
      "outputs": []
    },
    {
      "cell_type": "code",
      "metadata": {
        "id": "U-wQ2wga1SN4"
      },
      "source": [
        "dataset = pd.read_csv('/content/drive/MyDrive/Colab Notebooks/Churn_Modelling.csv')"
      ],
      "execution_count": 2,
      "outputs": []
    },
    {
      "cell_type": "code",
      "metadata": {
        "colab": {
          "base_uri": "https://localhost:8080/",
          "height": 215
        },
        "id": "H0IgV2DK1bR3",
        "outputId": "dd6eb7ed-b319-4823-ede0-ef5aa9122df0"
      },
      "source": [
        "dataset.head()"
      ],
      "execution_count": 3,
      "outputs": [
        {
          "output_type": "execute_result",
          "data": {
            "text/html": [
              "<div>\n",
              "<style scoped>\n",
              "    .dataframe tbody tr th:only-of-type {\n",
              "        vertical-align: middle;\n",
              "    }\n",
              "\n",
              "    .dataframe tbody tr th {\n",
              "        vertical-align: top;\n",
              "    }\n",
              "\n",
              "    .dataframe thead th {\n",
              "        text-align: right;\n",
              "    }\n",
              "</style>\n",
              "<table border=\"1\" class=\"dataframe\">\n",
              "  <thead>\n",
              "    <tr style=\"text-align: right;\">\n",
              "      <th></th>\n",
              "      <th>RowNumber</th>\n",
              "      <th>CustomerId</th>\n",
              "      <th>Surname</th>\n",
              "      <th>CreditScore</th>\n",
              "      <th>Geography</th>\n",
              "      <th>Gender</th>\n",
              "      <th>Age</th>\n",
              "      <th>Tenure</th>\n",
              "      <th>Balance</th>\n",
              "      <th>NumOfProducts</th>\n",
              "      <th>HasCrCard</th>\n",
              "      <th>IsActiveMember</th>\n",
              "      <th>EstimatedSalary</th>\n",
              "      <th>Exited</th>\n",
              "    </tr>\n",
              "  </thead>\n",
              "  <tbody>\n",
              "    <tr>\n",
              "      <th>0</th>\n",
              "      <td>1</td>\n",
              "      <td>15634602</td>\n",
              "      <td>Hargrave</td>\n",
              "      <td>619</td>\n",
              "      <td>France</td>\n",
              "      <td>Female</td>\n",
              "      <td>42</td>\n",
              "      <td>2</td>\n",
              "      <td>0.00</td>\n",
              "      <td>1</td>\n",
              "      <td>1</td>\n",
              "      <td>1</td>\n",
              "      <td>101348.88</td>\n",
              "      <td>1</td>\n",
              "    </tr>\n",
              "    <tr>\n",
              "      <th>1</th>\n",
              "      <td>2</td>\n",
              "      <td>15647311</td>\n",
              "      <td>Hill</td>\n",
              "      <td>608</td>\n",
              "      <td>Spain</td>\n",
              "      <td>Female</td>\n",
              "      <td>41</td>\n",
              "      <td>1</td>\n",
              "      <td>83807.86</td>\n",
              "      <td>1</td>\n",
              "      <td>0</td>\n",
              "      <td>1</td>\n",
              "      <td>112542.58</td>\n",
              "      <td>0</td>\n",
              "    </tr>\n",
              "    <tr>\n",
              "      <th>2</th>\n",
              "      <td>3</td>\n",
              "      <td>15619304</td>\n",
              "      <td>Onio</td>\n",
              "      <td>502</td>\n",
              "      <td>France</td>\n",
              "      <td>Female</td>\n",
              "      <td>42</td>\n",
              "      <td>8</td>\n",
              "      <td>159660.80</td>\n",
              "      <td>3</td>\n",
              "      <td>1</td>\n",
              "      <td>0</td>\n",
              "      <td>113931.57</td>\n",
              "      <td>1</td>\n",
              "    </tr>\n",
              "    <tr>\n",
              "      <th>3</th>\n",
              "      <td>4</td>\n",
              "      <td>15701354</td>\n",
              "      <td>Boni</td>\n",
              "      <td>699</td>\n",
              "      <td>France</td>\n",
              "      <td>Female</td>\n",
              "      <td>39</td>\n",
              "      <td>1</td>\n",
              "      <td>0.00</td>\n",
              "      <td>2</td>\n",
              "      <td>0</td>\n",
              "      <td>0</td>\n",
              "      <td>93826.63</td>\n",
              "      <td>0</td>\n",
              "    </tr>\n",
              "    <tr>\n",
              "      <th>4</th>\n",
              "      <td>5</td>\n",
              "      <td>15737888</td>\n",
              "      <td>Mitchell</td>\n",
              "      <td>850</td>\n",
              "      <td>Spain</td>\n",
              "      <td>Female</td>\n",
              "      <td>43</td>\n",
              "      <td>2</td>\n",
              "      <td>125510.82</td>\n",
              "      <td>1</td>\n",
              "      <td>1</td>\n",
              "      <td>1</td>\n",
              "      <td>79084.10</td>\n",
              "      <td>0</td>\n",
              "    </tr>\n",
              "  </tbody>\n",
              "</table>\n",
              "</div>"
            ],
            "text/plain": [
              "   RowNumber  CustomerId   Surname  ...  IsActiveMember EstimatedSalary Exited\n",
              "0          1    15634602  Hargrave  ...               1       101348.88      1\n",
              "1          2    15647311      Hill  ...               1       112542.58      0\n",
              "2          3    15619304      Onio  ...               0       113931.57      1\n",
              "3          4    15701354      Boni  ...               0        93826.63      0\n",
              "4          5    15737888  Mitchell  ...               1        79084.10      0\n",
              "\n",
              "[5 rows x 14 columns]"
            ]
          },
          "metadata": {
            "tags": []
          },
          "execution_count": 3
        }
      ]
    },
    {
      "cell_type": "code",
      "metadata": {
        "colab": {
          "base_uri": "https://localhost:8080/"
        },
        "id": "WrSpShM81eDv",
        "outputId": "3e4ac474-f1b9-4b08-8ed4-bcf780adbc5e"
      },
      "source": [
        "dataset.shape"
      ],
      "execution_count": 4,
      "outputs": [
        {
          "output_type": "execute_result",
          "data": {
            "text/plain": [
              "(10000, 14)"
            ]
          },
          "metadata": {
            "tags": []
          },
          "execution_count": 4
        }
      ]
    },
    {
      "cell_type": "code",
      "metadata": {
        "id": "RVLoCJmz1iMf"
      },
      "source": [
        "X=dataset.iloc[:,3:-1]\r\n",
        "y=dataset.iloc[:,13]"
      ],
      "execution_count": 24,
      "outputs": []
    },
    {
      "cell_type": "code",
      "metadata": {
        "id": "8Om7nsH11umP"
      },
      "source": [
        "geography= pd.get_dummies(X['Geography'],drop_first= True)\r\n",
        "gender=pd.get_dummies(X['Gender'], drop_first=True)"
      ],
      "execution_count": 25,
      "outputs": []
    },
    {
      "cell_type": "code",
      "metadata": {
        "id": "8VgQQenR3gBw"
      },
      "source": [
        "X=pd.concat([X,geography,gender], axis=1)"
      ],
      "execution_count": 26,
      "outputs": []
    },
    {
      "cell_type": "code",
      "metadata": {
        "id": "b7pBKY3u4AlY"
      },
      "source": [
        "X=X.drop(['Geography','Gender'],axis=1 )"
      ],
      "execution_count": 32,
      "outputs": []
    },
    {
      "cell_type": "code",
      "metadata": {
        "id": "1Oj2pn1J4VqH"
      },
      "source": [
        "from sklearn.model_selection import train_test_split\r\n",
        "X_train,X_test,y_train,y_test= train_test_split(X,y, test_size=0.2, random_state=0)"
      ],
      "execution_count": 33,
      "outputs": []
    },
    {
      "cell_type": "code",
      "metadata": {
        "id": "t5fkngy249EH"
      },
      "source": [
        "from sklearn.preprocessing import StandardScaler\r\n",
        "sc= StandardScaler()\r\n",
        "X_train= sc.fit_transform(X_train)\r\n",
        "X_test= sc.fit_transform(X_test)"
      ],
      "execution_count": 34,
      "outputs": []
    },
    {
      "cell_type": "code",
      "metadata": {
        "id": "Wrc5Ojw87fIY"
      },
      "source": [
        "import keras\r\n",
        "from keras.models import Sequential\r\n",
        "from keras.layers import Dense\r\n",
        "from keras.layers import LeakyReLU,PReLU,ELU\r\n",
        "from keras.layers import Dropout"
      ],
      "execution_count": 37,
      "outputs": []
    },
    {
      "cell_type": "code",
      "metadata": {
        "id": "K0yEkmHQ6Qv4"
      },
      "source": [
        "classifier = Sequential()"
      ],
      "execution_count": 38,
      "outputs": []
    },
    {
      "cell_type": "code",
      "metadata": {
        "id": "2nO4_CDC8cm_"
      },
      "source": [
        "classifier.add(Dense(units=6, kernel_initializer='he_uniform', activation='relu', input_dim=11))\r\n",
        "classifier.add(Dense(units=6, kernel_initializer='he_uniform', activation='relu'))\r\n",
        "classifier.add(Dense(units=1, kernel_initializer='glorot_uniform', activation='sigmoid'))"
      ],
      "execution_count": 43,
      "outputs": []
    },
    {
      "cell_type": "code",
      "metadata": {
        "id": "hxoAdEoU-AIg"
      },
      "source": [
        "classifier.compile(optimizer = 'Adamax', loss = 'binary_crossentropy', metrics = ['accuracy'])"
      ],
      "execution_count": 44,
      "outputs": []
    },
    {
      "cell_type": "code",
      "metadata": {
        "colab": {
          "base_uri": "https://localhost:8080/"
        },
        "id": "I6CBZFcc_WOo",
        "outputId": "8e59d2d3-09d8-462d-8abc-f2fb7fe411c2"
      },
      "source": [
        "model_history= classifier.fit(X_train, y_train, validation_split=0.33, batch_size= 10, epochs=100)"
      ],
      "execution_count": 47,
      "outputs": [
        {
          "output_type": "stream",
          "text": [
            "Epoch 1/100\n",
            "536/536 [==============================] - 4s 3ms/step - loss: 0.5766 - accuracy: 0.7186 - val_loss: 0.5117 - val_accuracy: 0.7758\n",
            "Epoch 2/100\n",
            "536/536 [==============================] - 1s 3ms/step - loss: 0.5050 - accuracy: 0.7809 - val_loss: 0.4876 - val_accuracy: 0.7948\n",
            "Epoch 3/100\n",
            "536/536 [==============================] - 1s 3ms/step - loss: 0.4750 - accuracy: 0.7975 - val_loss: 0.4769 - val_accuracy: 0.7936\n",
            "Epoch 4/100\n",
            "536/536 [==============================] - 1s 3ms/step - loss: 0.4608 - accuracy: 0.7967 - val_loss: 0.4688 - val_accuracy: 0.7955\n",
            "Epoch 5/100\n",
            "536/536 [==============================] - 1s 3ms/step - loss: 0.4690 - accuracy: 0.7846 - val_loss: 0.4631 - val_accuracy: 0.7959\n",
            "Epoch 6/100\n",
            "536/536 [==============================] - 1s 3ms/step - loss: 0.4655 - accuracy: 0.7926 - val_loss: 0.4582 - val_accuracy: 0.7963\n",
            "Epoch 7/100\n",
            "536/536 [==============================] - 1s 3ms/step - loss: 0.4448 - accuracy: 0.7979 - val_loss: 0.4542 - val_accuracy: 0.7967\n",
            "Epoch 8/100\n",
            "536/536 [==============================] - 1s 3ms/step - loss: 0.4470 - accuracy: 0.7947 - val_loss: 0.4509 - val_accuracy: 0.7963\n",
            "Epoch 9/100\n",
            "536/536 [==============================] - 1s 3ms/step - loss: 0.4433 - accuracy: 0.7965 - val_loss: 0.4482 - val_accuracy: 0.7959\n",
            "Epoch 10/100\n",
            "536/536 [==============================] - 1s 3ms/step - loss: 0.4402 - accuracy: 0.7953 - val_loss: 0.4460 - val_accuracy: 0.7967\n",
            "Epoch 11/100\n",
            "536/536 [==============================] - 1s 3ms/step - loss: 0.4348 - accuracy: 0.7948 - val_loss: 0.4440 - val_accuracy: 0.7963\n",
            "Epoch 12/100\n",
            "536/536 [==============================] - 1s 3ms/step - loss: 0.4405 - accuracy: 0.7988 - val_loss: 0.4422 - val_accuracy: 0.7959\n",
            "Epoch 13/100\n",
            "536/536 [==============================] - 1s 3ms/step - loss: 0.4280 - accuracy: 0.7994 - val_loss: 0.4406 - val_accuracy: 0.7959\n",
            "Epoch 14/100\n",
            "536/536 [==============================] - 1s 3ms/step - loss: 0.4222 - accuracy: 0.8049 - val_loss: 0.4393 - val_accuracy: 0.7959\n",
            "Epoch 15/100\n",
            "536/536 [==============================] - 1s 3ms/step - loss: 0.4290 - accuracy: 0.7905 - val_loss: 0.4381 - val_accuracy: 0.7967\n",
            "Epoch 16/100\n",
            "536/536 [==============================] - 1s 3ms/step - loss: 0.4197 - accuracy: 0.8051 - val_loss: 0.4370 - val_accuracy: 0.7963\n",
            "Epoch 17/100\n",
            "536/536 [==============================] - 1s 3ms/step - loss: 0.4250 - accuracy: 0.8021 - val_loss: 0.4361 - val_accuracy: 0.7974\n",
            "Epoch 18/100\n",
            "536/536 [==============================] - 1s 3ms/step - loss: 0.4200 - accuracy: 0.8050 - val_loss: 0.4351 - val_accuracy: 0.7967\n",
            "Epoch 19/100\n",
            "536/536 [==============================] - 1s 3ms/step - loss: 0.4130 - accuracy: 0.8068 - val_loss: 0.4342 - val_accuracy: 0.7974\n",
            "Epoch 20/100\n",
            "536/536 [==============================] - 1s 3ms/step - loss: 0.4305 - accuracy: 0.7961 - val_loss: 0.4333 - val_accuracy: 0.7974\n",
            "Epoch 21/100\n",
            "536/536 [==============================] - 1s 3ms/step - loss: 0.4219 - accuracy: 0.7982 - val_loss: 0.4324 - val_accuracy: 0.7974\n",
            "Epoch 22/100\n",
            "536/536 [==============================] - 1s 3ms/step - loss: 0.4222 - accuracy: 0.7939 - val_loss: 0.4316 - val_accuracy: 0.7974\n",
            "Epoch 23/100\n",
            "536/536 [==============================] - 1s 3ms/step - loss: 0.4136 - accuracy: 0.8025 - val_loss: 0.4307 - val_accuracy: 0.7974\n",
            "Epoch 24/100\n",
            "536/536 [==============================] - 1s 3ms/step - loss: 0.4134 - accuracy: 0.8074 - val_loss: 0.4297 - val_accuracy: 0.7974\n",
            "Epoch 25/100\n",
            "536/536 [==============================] - 1s 3ms/step - loss: 0.4212 - accuracy: 0.8007 - val_loss: 0.4289 - val_accuracy: 0.7978\n",
            "Epoch 26/100\n",
            "536/536 [==============================] - 1s 3ms/step - loss: 0.4116 - accuracy: 0.8061 - val_loss: 0.4281 - val_accuracy: 0.7978\n",
            "Epoch 27/100\n",
            "536/536 [==============================] - 1s 3ms/step - loss: 0.4230 - accuracy: 0.8003 - val_loss: 0.4273 - val_accuracy: 0.7974\n",
            "Epoch 28/100\n",
            "536/536 [==============================] - 1s 3ms/step - loss: 0.4241 - accuracy: 0.7980 - val_loss: 0.4265 - val_accuracy: 0.7959\n",
            "Epoch 29/100\n",
            "536/536 [==============================] - 1s 3ms/step - loss: 0.4043 - accuracy: 0.8074 - val_loss: 0.4255 - val_accuracy: 0.7959\n",
            "Epoch 30/100\n",
            "536/536 [==============================] - 1s 3ms/step - loss: 0.4105 - accuracy: 0.7965 - val_loss: 0.4246 - val_accuracy: 0.7963\n",
            "Epoch 31/100\n",
            "536/536 [==============================] - 1s 3ms/step - loss: 0.4217 - accuracy: 0.7986 - val_loss: 0.4236 - val_accuracy: 0.7967\n",
            "Epoch 32/100\n",
            "536/536 [==============================] - 1s 3ms/step - loss: 0.4182 - accuracy: 0.7988 - val_loss: 0.4226 - val_accuracy: 0.7955\n",
            "Epoch 33/100\n",
            "536/536 [==============================] - 1s 3ms/step - loss: 0.4106 - accuracy: 0.8006 - val_loss: 0.4214 - val_accuracy: 0.7970\n",
            "Epoch 34/100\n",
            "536/536 [==============================] - 1s 3ms/step - loss: 0.4104 - accuracy: 0.8072 - val_loss: 0.4202 - val_accuracy: 0.7982\n",
            "Epoch 35/100\n",
            "536/536 [==============================] - 1s 3ms/step - loss: 0.3949 - accuracy: 0.8182 - val_loss: 0.4190 - val_accuracy: 0.7997\n",
            "Epoch 36/100\n",
            "536/536 [==============================] - 1s 3ms/step - loss: 0.4150 - accuracy: 0.8010 - val_loss: 0.4180 - val_accuracy: 0.8008\n",
            "Epoch 37/100\n",
            "536/536 [==============================] - 1s 3ms/step - loss: 0.3930 - accuracy: 0.8095 - val_loss: 0.4168 - val_accuracy: 0.8005\n",
            "Epoch 38/100\n",
            "536/536 [==============================] - 1s 3ms/step - loss: 0.4082 - accuracy: 0.8150 - val_loss: 0.4157 - val_accuracy: 0.8099\n",
            "Epoch 39/100\n",
            "536/536 [==============================] - 1s 3ms/step - loss: 0.3975 - accuracy: 0.8238 - val_loss: 0.4144 - val_accuracy: 0.8122\n",
            "Epoch 40/100\n",
            "536/536 [==============================] - 1s 3ms/step - loss: 0.4045 - accuracy: 0.8212 - val_loss: 0.4133 - val_accuracy: 0.8122\n",
            "Epoch 41/100\n",
            "536/536 [==============================] - 1s 3ms/step - loss: 0.4001 - accuracy: 0.8269 - val_loss: 0.4117 - val_accuracy: 0.8156\n",
            "Epoch 42/100\n",
            "536/536 [==============================] - 1s 3ms/step - loss: 0.4077 - accuracy: 0.8205 - val_loss: 0.4101 - val_accuracy: 0.8171\n",
            "Epoch 43/100\n",
            "536/536 [==============================] - 1s 3ms/step - loss: 0.3938 - accuracy: 0.8281 - val_loss: 0.4081 - val_accuracy: 0.8194\n",
            "Epoch 44/100\n",
            "536/536 [==============================] - 1s 3ms/step - loss: 0.4057 - accuracy: 0.8232 - val_loss: 0.4062 - val_accuracy: 0.8201\n",
            "Epoch 45/100\n",
            "536/536 [==============================] - 1s 3ms/step - loss: 0.4014 - accuracy: 0.8250 - val_loss: 0.4041 - val_accuracy: 0.8228\n",
            "Epoch 46/100\n",
            "536/536 [==============================] - 1s 3ms/step - loss: 0.3802 - accuracy: 0.8406 - val_loss: 0.4017 - val_accuracy: 0.8247\n",
            "Epoch 47/100\n",
            "536/536 [==============================] - 1s 3ms/step - loss: 0.3988 - accuracy: 0.8291 - val_loss: 0.3993 - val_accuracy: 0.8266\n",
            "Epoch 48/100\n",
            "536/536 [==============================] - 1s 3ms/step - loss: 0.3904 - accuracy: 0.8349 - val_loss: 0.3964 - val_accuracy: 0.8304\n",
            "Epoch 49/100\n",
            "536/536 [==============================] - 1s 3ms/step - loss: 0.3805 - accuracy: 0.8359 - val_loss: 0.3936 - val_accuracy: 0.8349\n",
            "Epoch 50/100\n",
            "536/536 [==============================] - 1s 3ms/step - loss: 0.3741 - accuracy: 0.8501 - val_loss: 0.3902 - val_accuracy: 0.8383\n",
            "Epoch 51/100\n",
            "536/536 [==============================] - 1s 3ms/step - loss: 0.3774 - accuracy: 0.8438 - val_loss: 0.3869 - val_accuracy: 0.8391\n",
            "Epoch 52/100\n",
            "536/536 [==============================] - 1s 3ms/step - loss: 0.3682 - accuracy: 0.8440 - val_loss: 0.3834 - val_accuracy: 0.8413\n",
            "Epoch 53/100\n",
            "536/536 [==============================] - 1s 3ms/step - loss: 0.3707 - accuracy: 0.8506 - val_loss: 0.3802 - val_accuracy: 0.8429\n",
            "Epoch 54/100\n",
            "536/536 [==============================] - 1s 3ms/step - loss: 0.3582 - accuracy: 0.8557 - val_loss: 0.3771 - val_accuracy: 0.8436\n",
            "Epoch 55/100\n",
            "536/536 [==============================] - 1s 3ms/step - loss: 0.3555 - accuracy: 0.8550 - val_loss: 0.3744 - val_accuracy: 0.8444\n",
            "Epoch 56/100\n",
            "536/536 [==============================] - 1s 3ms/step - loss: 0.3630 - accuracy: 0.8541 - val_loss: 0.3720 - val_accuracy: 0.8466\n",
            "Epoch 57/100\n",
            "536/536 [==============================] - 1s 3ms/step - loss: 0.3417 - accuracy: 0.8581 - val_loss: 0.3702 - val_accuracy: 0.8466\n",
            "Epoch 58/100\n",
            "536/536 [==============================] - 1s 3ms/step - loss: 0.3577 - accuracy: 0.8473 - val_loss: 0.3685 - val_accuracy: 0.8482\n",
            "Epoch 59/100\n",
            "536/536 [==============================] - 1s 3ms/step - loss: 0.3573 - accuracy: 0.8542 - val_loss: 0.3670 - val_accuracy: 0.8489\n",
            "Epoch 60/100\n",
            "536/536 [==============================] - 1s 3ms/step - loss: 0.3488 - accuracy: 0.8581 - val_loss: 0.3656 - val_accuracy: 0.8485\n",
            "Epoch 61/100\n",
            "536/536 [==============================] - 1s 3ms/step - loss: 0.3431 - accuracy: 0.8585 - val_loss: 0.3646 - val_accuracy: 0.8482\n",
            "Epoch 62/100\n",
            "536/536 [==============================] - 1s 3ms/step - loss: 0.3407 - accuracy: 0.8620 - val_loss: 0.3637 - val_accuracy: 0.8482\n",
            "Epoch 63/100\n",
            "536/536 [==============================] - 1s 3ms/step - loss: 0.3482 - accuracy: 0.8564 - val_loss: 0.3630 - val_accuracy: 0.8485\n",
            "Epoch 64/100\n",
            "536/536 [==============================] - 1s 3ms/step - loss: 0.3632 - accuracy: 0.8519 - val_loss: 0.3626 - val_accuracy: 0.8489\n",
            "Epoch 65/100\n",
            "536/536 [==============================] - 1s 3ms/step - loss: 0.3634 - accuracy: 0.8583 - val_loss: 0.3622 - val_accuracy: 0.8489\n",
            "Epoch 66/100\n",
            "536/536 [==============================] - 1s 3ms/step - loss: 0.3521 - accuracy: 0.8523 - val_loss: 0.3618 - val_accuracy: 0.8493\n",
            "Epoch 67/100\n",
            "536/536 [==============================] - 1s 3ms/step - loss: 0.3387 - accuracy: 0.8618 - val_loss: 0.3616 - val_accuracy: 0.8497\n",
            "Epoch 68/100\n",
            "536/536 [==============================] - 1s 3ms/step - loss: 0.3533 - accuracy: 0.8566 - val_loss: 0.3615 - val_accuracy: 0.8493\n",
            "Epoch 69/100\n",
            "536/536 [==============================] - 1s 3ms/step - loss: 0.3413 - accuracy: 0.8589 - val_loss: 0.3611 - val_accuracy: 0.8501\n",
            "Epoch 70/100\n",
            "536/536 [==============================] - 1s 3ms/step - loss: 0.3527 - accuracy: 0.8559 - val_loss: 0.3610 - val_accuracy: 0.8493\n",
            "Epoch 71/100\n",
            "536/536 [==============================] - 1s 3ms/step - loss: 0.3427 - accuracy: 0.8590 - val_loss: 0.3605 - val_accuracy: 0.8508\n",
            "Epoch 72/100\n",
            "536/536 [==============================] - 1s 3ms/step - loss: 0.3350 - accuracy: 0.8622 - val_loss: 0.3604 - val_accuracy: 0.8508\n",
            "Epoch 73/100\n",
            "536/536 [==============================] - 1s 3ms/step - loss: 0.3526 - accuracy: 0.8548 - val_loss: 0.3602 - val_accuracy: 0.8519\n",
            "Epoch 74/100\n",
            "536/536 [==============================] - 1s 3ms/step - loss: 0.3408 - accuracy: 0.8526 - val_loss: 0.3602 - val_accuracy: 0.8512\n",
            "Epoch 75/100\n",
            "536/536 [==============================] - 1s 3ms/step - loss: 0.3376 - accuracy: 0.8603 - val_loss: 0.3597 - val_accuracy: 0.8531\n",
            "Epoch 76/100\n",
            "536/536 [==============================] - 1s 3ms/step - loss: 0.3262 - accuracy: 0.8650 - val_loss: 0.3599 - val_accuracy: 0.8508\n",
            "Epoch 77/100\n",
            "536/536 [==============================] - 1s 3ms/step - loss: 0.3445 - accuracy: 0.8601 - val_loss: 0.3598 - val_accuracy: 0.8512\n",
            "Epoch 78/100\n",
            "536/536 [==============================] - 1s 3ms/step - loss: 0.3283 - accuracy: 0.8659 - val_loss: 0.3592 - val_accuracy: 0.8535\n",
            "Epoch 79/100\n",
            "536/536 [==============================] - 1s 3ms/step - loss: 0.3495 - accuracy: 0.8556 - val_loss: 0.3593 - val_accuracy: 0.8531\n",
            "Epoch 80/100\n",
            "536/536 [==============================] - 1s 3ms/step - loss: 0.3414 - accuracy: 0.8592 - val_loss: 0.3593 - val_accuracy: 0.8523\n",
            "Epoch 81/100\n",
            "536/536 [==============================] - 1s 3ms/step - loss: 0.3427 - accuracy: 0.8609 - val_loss: 0.3591 - val_accuracy: 0.8538\n",
            "Epoch 82/100\n",
            "536/536 [==============================] - 1s 3ms/step - loss: 0.3399 - accuracy: 0.8589 - val_loss: 0.3591 - val_accuracy: 0.8527\n",
            "Epoch 83/100\n",
            "536/536 [==============================] - 1s 3ms/step - loss: 0.3371 - accuracy: 0.8613 - val_loss: 0.3591 - val_accuracy: 0.8527\n",
            "Epoch 84/100\n",
            "536/536 [==============================] - 1s 3ms/step - loss: 0.3288 - accuracy: 0.8653 - val_loss: 0.3589 - val_accuracy: 0.8519\n",
            "Epoch 85/100\n",
            "536/536 [==============================] - 1s 3ms/step - loss: 0.3455 - accuracy: 0.8557 - val_loss: 0.3587 - val_accuracy: 0.8516\n",
            "Epoch 86/100\n",
            "536/536 [==============================] - 1s 3ms/step - loss: 0.3503 - accuracy: 0.8605 - val_loss: 0.3584 - val_accuracy: 0.8542\n",
            "Epoch 87/100\n",
            "536/536 [==============================] - 1s 3ms/step - loss: 0.3284 - accuracy: 0.8635 - val_loss: 0.3586 - val_accuracy: 0.8527\n",
            "Epoch 88/100\n",
            "536/536 [==============================] - 1s 3ms/step - loss: 0.3447 - accuracy: 0.8558 - val_loss: 0.3584 - val_accuracy: 0.8535\n",
            "Epoch 89/100\n",
            "536/536 [==============================] - 1s 3ms/step - loss: 0.3511 - accuracy: 0.8545 - val_loss: 0.3584 - val_accuracy: 0.8538\n",
            "Epoch 90/100\n",
            "536/536 [==============================] - 2s 3ms/step - loss: 0.3379 - accuracy: 0.8599 - val_loss: 0.3586 - val_accuracy: 0.8516\n",
            "Epoch 91/100\n",
            "536/536 [==============================] - 1s 3ms/step - loss: 0.3289 - accuracy: 0.8630 - val_loss: 0.3584 - val_accuracy: 0.8519\n",
            "Epoch 92/100\n",
            "536/536 [==============================] - 1s 3ms/step - loss: 0.3467 - accuracy: 0.8574 - val_loss: 0.3584 - val_accuracy: 0.8519\n",
            "Epoch 93/100\n",
            "536/536 [==============================] - 1s 3ms/step - loss: 0.3362 - accuracy: 0.8664 - val_loss: 0.3583 - val_accuracy: 0.8531\n",
            "Epoch 94/100\n",
            "536/536 [==============================] - 1s 3ms/step - loss: 0.3241 - accuracy: 0.8662 - val_loss: 0.3582 - val_accuracy: 0.8523\n",
            "Epoch 95/100\n",
            "536/536 [==============================] - 1s 3ms/step - loss: 0.3340 - accuracy: 0.8584 - val_loss: 0.3582 - val_accuracy: 0.8527\n",
            "Epoch 96/100\n",
            "536/536 [==============================] - 1s 3ms/step - loss: 0.3383 - accuracy: 0.8617 - val_loss: 0.3581 - val_accuracy: 0.8531\n",
            "Epoch 97/100\n",
            "536/536 [==============================] - 1s 3ms/step - loss: 0.3436 - accuracy: 0.8563 - val_loss: 0.3579 - val_accuracy: 0.8523\n",
            "Epoch 98/100\n",
            "536/536 [==============================] - 1s 3ms/step - loss: 0.3491 - accuracy: 0.8543 - val_loss: 0.3581 - val_accuracy: 0.8542\n",
            "Epoch 99/100\n",
            "536/536 [==============================] - 1s 3ms/step - loss: 0.3406 - accuracy: 0.8570 - val_loss: 0.3579 - val_accuracy: 0.8527\n",
            "Epoch 100/100\n",
            "536/536 [==============================] - 1s 3ms/step - loss: 0.3446 - accuracy: 0.8554 - val_loss: 0.3578 - val_accuracy: 0.8535\n"
          ],
          "name": "stdout"
        }
      ]
    },
    {
      "cell_type": "code",
      "metadata": {
        "colab": {
          "base_uri": "https://localhost:8080/"
        },
        "id": "jl1Z7tSf_y4p",
        "outputId": "882eea0c-ced3-4a23-e1d4-3d3fb5be166d"
      },
      "source": [
        "print(model_history.history.keys())"
      ],
      "execution_count": 49,
      "outputs": [
        {
          "output_type": "stream",
          "text": [
            "dict_keys(['loss', 'accuracy', 'val_loss', 'val_accuracy'])\n"
          ],
          "name": "stdout"
        }
      ]
    },
    {
      "cell_type": "code",
      "metadata": {
        "colab": {
          "base_uri": "https://localhost:8080/",
          "height": 295
        },
        "id": "3sW_OzD_IBuz",
        "outputId": "dbff33c2-9c8a-4392-f97c-02abbc899c9c"
      },
      "source": [
        "plt.plot(model_history.history['accuracy'])\r\n",
        "plt.plot(model_history.history['val_accuracy'])\r\n",
        "plt.title('model accuracy')\r\n",
        "plt.ylabel('accuracy')\r\n",
        "plt.xlabel('epoch')\r\n",
        "plt.legend(['train', 'test'], loc='upper left')\r\n",
        "plt.show()"
      ],
      "execution_count": 52,
      "outputs": [
        {
          "output_type": "display_data",
          "data": {
            "image/png": "[encoded data removed]",
            "text/plain": [
              "<Figure size 432x288 with 1 Axes>"
            ]
          },
          "metadata": {
            "tags": [],
            "needs_background": "light"
          }
        }
      ]
    },
    {
      "cell_type": "code",
      "metadata": {
        "colab": {
          "base_uri": "https://localhost:8080/",
          "height": 295
        },
        "id": "Ni2sN0JRICxD",
        "outputId": "ff3b1d50-76d4-400e-f398-a576afd1d68a"
      },
      "source": [
        "plt.plot(model_history.history['loss'])\r\n",
        "plt.plot(model_history.history['val_loss'])\r\n",
        "plt.title('model loss')\r\n",
        "plt.ylabel('loss')\r\n",
        "plt.xlabel('epoch')\r\n",
        "plt.legend(['train', 'test'], loc='upper right')\r\n",
        "plt.show()"
      ],
      "execution_count": 59,
      "outputs": [
        {
          "output_type": "display_data",
          "data": {
            "image/png": "[encoded data removed]",
            "text/plain": [
              "<Figure size 432x288 with 1 Axes>"
            ]
          },
          "metadata": {
            "tags": [],
            "needs_background": "light"
          }
        }
      ]
    },
    {
      "cell_type": "code",
      "metadata": {
        "id": "dt5zQNTZIUmZ"
      },
      "source": [
        "y_pred = classifier.predict(X_test)\r\n",
        "y_pred = (y_pred > 0.5)\r\n"
      ],
      "execution_count": 54,
      "outputs": []
    },
    {
      "cell_type": "code",
      "metadata": {
        "colab": {
          "base_uri": "https://localhost:8080/"
        },
        "id": "58_f7BGgIdmh",
        "outputId": "05db19a2-7990-492e-c52a-5ed3674626d9"
      },
      "source": [
        "from sklearn.metrics import confusion_matrix\r\n",
        "cm = confusion_matrix(y_test, y_pred)\r\n",
        "cm"
      ],
      "execution_count": 58,
      "outputs": [
        {
          "output_type": "execute_result",
          "data": {
            "text/plain": [
              "array([[1536,   59],\n",
              "       [ 214,  191]])"
            ]
          },
          "metadata": {
            "tags": []
          },
          "execution_count": 58
        }
      ]
    },
    {
      "cell_type": "code",
      "metadata": {
        "id": "iByyFqfvInbB"
      },
      "source": [
        "from sklearn.metrics import accuracy_score\r\n",
        "score=accuracy_score(y_pred,y_test)\r\n"
      ],
      "execution_count": 56,
      "outputs": []
    },
    {
      "cell_type": "code",
      "metadata": {
        "colab": {
          "base_uri": "https://localhost:8080/"
        },
        "id": "pBVkzEtOIp-5",
        "outputId": "828560fd-6fff-4270-c556-b44c843b148a"
      },
      "source": [
        "score"
      ],
      "execution_count": 57,
      "outputs": [
        {
          "output_type": "execute_result",
          "data": {
            "text/plain": [
              "0.8635"
            ]
          },
          "metadata": {
            "tags": []
          },
          "execution_count": 57
        }
      ]
    },
    {
      "cell_type": "code",
      "metadata": {
        "id": "DzQbpvlyIsGx"
      },
      "source": [
        ""
      ],
      "execution_count": null,
      "outputs": []
    }
  ]
}